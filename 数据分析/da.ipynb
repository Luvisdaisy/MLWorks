{
 "cells": [
  {
   "attachments": {},
   "cell_type": "markdown",
   "metadata": {},
   "source": [
    "# 对评论部分的数据分析\n",
    "1. 对每部电影进行评论词云分析，查看特征\n",
    "2. 对每部电影进行用户评分分析，并根据综合评分对这些电影进行排名"
   ]
  },
  {
   "cell_type": "code",
   "execution_count": 1,
   "metadata": {},
   "outputs": [],
   "source": [
    "from pymongo import MongoClient\n",
    "import pandas as pd\n",
    "import numpy as np\n",
    "import matplotlib.pyplot as plt"
   ]
  },
  {
   "attachments": {},
   "cell_type": "markdown",
   "metadata": {},
   "source": [
    "连接数据库"
   ]
  },
  {
   "cell_type": "code",
   "execution_count": 2,
   "metadata": {},
   "outputs": [],
   "source": [
    "client = MongoClient('mongodb://localhost:27017/')\n",
    "db = client['doubantop250_db']\n",
    "info_collection = db['movie_info_collection']\n",
    "review_collection = db['movie_review_collection']"
   ]
  },
  {
   "cell_type": "code",
   "execution_count": 8,
   "metadata": {},
   "outputs": [
    {
     "name": "stdout",
     "output_type": "stream",
     "text": [
      "            user_id user_rating  \\\n",
      "movie_id                          \n",
      "1292052     1041052           5   \n",
      "1292052     1123543           5   \n",
      "1292052     1781395           4   \n",
      "1292052     1289463           5   \n",
      "1292052     1874375           5   \n",
      "...             ...         ...   \n",
      "3541415     1912248           4   \n",
      "3541415     1494334           5   \n",
      "3541415    28594363           5   \n",
      "3541415     3225954           4   \n",
      "3541415   171308410           4   \n",
      "\n",
      "                                                    comment  \n",
      "movie_id                                                     \n",
      "1292052   当年的奥斯卡颁奖礼上，被如日中天的《阿甘正传》掩盖了它的光彩，而随着时间的推移，这部电影在越...  \n",
      "1292052                                          不需要女主角的好电影  \n",
      "1292052          人的生命不过是从一个洞穴通往另一个世界..然后在那个世界的雨中继续颤抖.i hope  \n",
      "1292052                        恐惧让你沦为囚犯，希望让你重获自由。——《肖申克的救赎》  \n",
      "1292052   “这是一部男人必看的电影。”人人都这么说。但单纯从性别区分，就会让这电影变狭隘。《肖申克的救...  \n",
      "...                                                     ...  \n",
      "3541415                                你们终于知道我每天晚上做这种梦有多累了吧  \n",
      "3541415   我还能说什么呢 出影院第一件事就是拿iphone 上豆瓣 至少5颗星啊 第156个评分的 哈...  \n",
      "3541415                   列奥纳多干完这票肯定是要去Shutter Island修养一阵了。  \n",
      "3541415   概念不算新鲜但还不错 ;p 充斥许多漂亮的慢动作镜头和带点匪夷所思的建筑构想，视觉效果挺棒的...  \n",
      "3541415                     好烧脑的电影，看了两次才看明白，好吧自己笨了点。佩服编剧导演了  \n",
      "\n",
      "[898 rows x 3 columns]\n"
     ]
    }
   ],
   "source": [
    "#读取评论数据\n",
    "results=review_collection.find()\n",
    "review_dataframe=pd.DataFrame(results)\n",
    "# print(review_dataframe)\n",
    "#设置movie_id为索引\n",
    "review_df_id_index=review_dataframe.set_index('movie_id')\n",
    "#去除从数据库中提取出来的_id列\n",
    "review_df_id_index=review_df_id_index.drop('_id',axis=1)\n",
    "print(review_df_id_index)"
   ]
  },
  {
   "cell_type": "code",
   "execution_count": 10,
   "metadata": {},
   "outputs": [
    {
     "name": "stdout",
     "output_type": "stream",
     "text": [
      "0      当年的奥斯卡颁奖礼上，被如日中天的《阿甘正传》掩盖了它的光彩，而随着时间的推移，这部电影在越...\n",
      "1                                             不需要女主角的好电影\n",
      "2             人的生命不过是从一个洞穴通往另一个世界..然后在那个世界的雨中继续颤抖.i hope\n",
      "3                           恐惧让你沦为囚犯，希望让你重获自由。——《肖申克的救赎》\n",
      "4      “这是一部男人必看的电影。”人人都这么说。但单纯从性别区分，就会让这电影变狭隘。《肖申克的救...\n",
      "                             ...                        \n",
      "893                                 你们终于知道我每天晚上做这种梦有多累了吧\n",
      "894    我还能说什么呢 出影院第一件事就是拿iphone 上豆瓣 至少5颗星啊 第156个评分的 哈...\n",
      "895                    列奥纳多干完这票肯定是要去Shutter Island修养一阵了。\n",
      "896    概念不算新鲜但还不错 ;p 充斥许多漂亮的慢动作镜头和带点匪夷所思的建筑构想，视觉效果挺棒的...\n",
      "897                      好烧脑的电影，看了两次才看明白，好吧自己笨了点。佩服编剧导演了\n",
      "Name: comment, Length: 898, dtype: object\n"
     ]
    }
   ],
   "source": [
    "print(review_dataframe['comment'])"
   ]
  }
 ],
 "metadata": {
  "kernelspec": {
   "display_name": "base",
   "language": "python",
   "name": "python3"
  },
  "language_info": {
   "codemirror_mode": {
    "name": "ipython",
    "version": 3
   },
   "file_extension": ".py",
   "mimetype": "text/x-python",
   "name": "python",
   "nbconvert_exporter": "python",
   "pygments_lexer": "ipython3",
   "version": "3.7.6 (default, Jan  8 2020, 20:23:39) [MSC v.1916 64 bit (AMD64)]"
  },
  "orig_nbformat": 4,
  "vscode": {
   "interpreter": {
    "hash": "42841229b10ceb8793c9fcb9d3defb21572612f32554233fda32386a4d1d591c"
   }
  }
 },
 "nbformat": 4,
 "nbformat_minor": 2
}
